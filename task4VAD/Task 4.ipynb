{
 "cells": [
  {
   "cell_type": "code",
   "execution_count": 1,
   "id": "ff067115",
   "metadata": {},
   "outputs": [],
   "source": [
    "%load_ext autoreload\n",
    "%autoreload 2"
   ]
  },
  {
   "cell_type": "code",
   "execution_count": 2,
   "id": "fc10c944",
   "metadata": {},
   "outputs": [],
   "source": [
    "import numpy as np\n",
    "from matplotlib import pyplot as plt\n",
    "import os\n",
    "from VoiceData import VoiceDataSet"
   ]
  },
  {
   "cell_type": "code",
   "execution_count": 3,
   "id": "ed0838d5",
   "metadata": {},
   "outputs": [],
   "source": [
    "# https://medium.com/analytics-vidhya/pytorch-for-deep-learning-lstm-for-sequence-data-d0708fdf5717\n",
    "\n",
    "from torch.utils.data import Dataset\n",
    "from torchvision import transforms\n",
    "import torch\n",
    "import torch.nn as nn\n",
    "import torch.nn.functional as F \n",
    "import torch.optim as optim\n",
    "from tqdm import tqdm\n",
    "\n",
    "data_folder = \"/Users/will/Documents/COM4511/ass/COM4511/task4VAD/audio\"\n",
    "labs_folder = \"/Users/will/Documents/COM4511/ass/COM4511/task4VAD/labels\"\n",
    "\n",
    "training_prefixes = [\"N\", \"V\"]\n",
    "validation_prefixes = [\"E\"]\n",
    "testing_prefixes = [\"C\"]\n",
    "\n",
    "# reading training data\n",
    "\n",
    "def read_data_to_list(prefixes):\n",
    "    data_out = []\n",
    "    labs_out = []\n",
    "    os.chdir(data_folder)\n",
    "    for file in os.listdir():\n",
    "        if file[0] in prefixes:\n",
    "            path = f\"{data_folder}/{file}\"\n",
    "            with open(path, 'rb') as f:\n",
    "                data_out.append(np.load(f))\n",
    "    \n",
    "    os.chdir(labs_folder)\n",
    "    for file in os.listdir():\n",
    "        if file[0] in prefixes:\n",
    "            path = f\"{labs_folder}/{file}\"\n",
    "            with open(path, 'rb') as f:\n",
    "                labs_out.append(np.load(f))\n",
    "                \n",
    "    return data_out, labs_out\n",
    "    \n",
    "def calc_means_std(prefixes):\n",
    "    a_paths, l_paths = VoiceDataSet.gen_paths(VoiceDataSet,prefixes=prefixes)\n",
    "    a_data, l_data = [], []\n",
    "    \n",
    "    for a, l in zip(a_paths, l_paths):\n",
    "        temp_d, temp_l = VoiceDataSet.read_data_from_path(VoiceDataSet, a, l)\n",
    "        a_data.append(temp_d)\n",
    "    \n",
    "    total_data = torch.cat(a_data)\n",
    "    \n",
    "    stds, means = torch.std_mean(total_data, dim=0)\n",
    "    \n",
    "    return stds, means\n",
    "    \n",
    "    \n",
    "    \n",
    "\n",
    "training_stds, training_means = calc_means_std(training_prefixes)\n",
    "\n",
    "    \n",
    "training_data, training_labs =  read_data_to_list(training_prefixes)\n",
    "\n",
    "testing_data, testing_labs =  read_data_to_list(testing_prefixes)\n",
    "validation_data, validation_labs =  read_data_to_list(validation_prefixes)\n",
    "\n",
    "\n",
    "\n",
    "class Timeseries(Dataset):\n",
    "    def __init__(self, x, y, seq_len):\n",
    "        self.x = torch.from_numpy(x)\n",
    "        self.y = torch.from_numpy(y)\n",
    "        self.len = x.shape[0]\n",
    "        self.seq_len = seq_len\n",
    "    \n",
    "    # def __getitem__(self, idx):\n",
    "    #     return self.transform(self.x[idx]), self.transform(self.y[idx])\n",
    "\n",
    "    def __getitem__(self, idx):\n",
    "        return self.x[idx:idx+self.seq_len], torch.tensor(self.y[idx:idx+self.seq_len], dtype=torch.float32)\n",
    "\n",
    "\n",
    "    def __len__(self):\n",
    "        return self.len - (self.seq_len - 1)\n",
    "\n",
    "\n",
    "\n",
    "\n",
    "\n",
    "# train_datasets = [Timeseries(x, y, seq_len=sequence_length) for (x, y) in zip(training_data, training_labs)]\n",
    "\n",
    "from torch.utils.data import DataLoader\n",
    "\n",
    "# train_loader = DataLoader(torch.utils.data.ConcatDataset(train_datasets), shuffle=True, batch_size=32) \n"
   ]
  },
  {
   "cell_type": "code",
   "execution_count": 4,
   "id": "da8ab3c9",
   "metadata": {},
   "outputs": [
    {
     "name": "stdout",
     "output_type": "stream",
     "text": [
      "cpu\n"
     ]
    }
   ],
   "source": [
    "\n",
    "\n",
    "torch.manual_seed(42)\n",
    "\n",
    "device = torch.device(\"cuda\" if torch.cuda.is_available() else \"cpu\")\n",
    "print(device)\n"
   ]
  },
  {
   "cell_type": "code",
   "execution_count": 36,
   "id": "4474c7b6",
   "metadata": {},
   "outputs": [],
   "source": [
    "\n",
    "\n",
    "trnsfrm = transforms.Compose([\n",
    "    transforms.Normalize(training_means, training_stds)]\n",
    ")\n",
    "\n",
    "\n",
    "window_length = 2048\n",
    "\n",
    "VDS = VoiceDataSet(\"train\", window_length=window_length, transform=trnsfrm)\n",
    "\n",
    "b_size = 8\n",
    "\n",
    "train_loader = DataLoader(VDS, shuffle=True, batch_size=b_size)\n",
    "#print(len(train_loader.dataset))\n",
    "\n",
    "class LSTM_network(nn.Module):\n",
    "    def __init__(self):\n",
    "        super(LSTM_network,self).__init__()\n",
    "        self.lstm = nn.LSTM(input_size=13,hidden_size=13,num_layers=10,batch_first=True)\n",
    "        self.fc1 = nn.Linear(in_features=13,out_features=1)\n",
    "        self.sigmoid = nn.Sigmoid()\n",
    "\n",
    "    def forward(self,x):\n",
    "       # print(f\"x :{x.size}\")\n",
    "        output,_status = self.lstm(x)\n",
    "        #print(f\"after lstm: {output.size()}\")\n",
    "        output = self.fc1(output)\n",
    "        #print(f\"after lin layer: {output.size()}\")\n",
    "        output = self.sigmoid(output)\n",
    "       # print(f\"after sigmoid: {output.size()}\")\n",
    "        return output\n",
    "\n",
    "model = LSTM_network()"
   ]
  },
  {
   "cell_type": "code",
   "execution_count": 37,
   "id": "fc41e398",
   "metadata": {},
   "outputs": [
    {
     "name": "stdout",
     "output_type": "stream",
     "text": [
      "19\n"
     ]
    }
   ],
   "source": [
    "# crit = nn.BCELoss() # binary classfication task, BCEL is obvious choice.\n",
    "# optimiser = optim.Adam(model.parameters(), lr=0.0001) # https://deepdatascience.wordpress.com/2016/11/18/which-lstm-optimizer-to-use/\n",
    "# epochs = 1\n",
    "\n",
    "print(len(train_loader.dataset))"
   ]
  },
  {
   "cell_type": "code",
   "execution_count": 43,
   "id": "5d4f8ad6",
   "metadata": {},
   "outputs": [
    {
     "name": "stderr",
     "output_type": "stream",
     "text": [
      "Epoch: 110, loss: 0.06935:  22%|██▏       | 111/500 [17:45<1:03:35,  9.81s/it]"
     ]
    }
   ],
   "source": [
    "\n",
    "\n",
    "#training løøp\n",
    "\n",
    "model = LSTM_network()\n",
    "crit = nn.BCELoss() # binary classfication task, BCEL is obvious choice.\n",
    "optimiser = optim.Adam(model.parameters(), lr=0.001) \n",
    "\n",
    "eps = 1e-8\n",
    "epochs = 500\n",
    "losses = [0.5]\n",
    "t =tqdm(range(epochs))\n",
    "dat_len = len(train_loader.dataset)\n",
    "for e in t:\n",
    "    epoch_loss = 0\n",
    "    for i, (X, y) in enumerate(train_loader):\n",
    "        y_pred = model(X) # .permute(0, 2, 1)\n",
    "        \n",
    "        # .reshape(data_shape)\n",
    "        loss = crit(y_pred, y) #.permute(0, 2, 1)\n",
    "        # optimiser.zero_grad()\n",
    "        loss.backward()\n",
    "        optimiser.step()\n",
    "        epoch_loss += loss.item()\n",
    "        \n",
    "    if e % 5 == 0:    \n",
    "        epoch_loss /=  dat_len\n",
    "        losses.append(epoch_loss)\n",
    "        t.set_description(desc=f\"Epoch: {e}, loss: {round(epoch_loss, 5)}\")\n",
    "        \n",
    "    if abs(losses[-1] - losses[-2]) < eps:\n",
    "        break\n",
    "                \n",
    "       "
   ]
  },
  {
   "cell_type": "code",
   "execution_count": null,
   "id": "3ade48b2",
   "metadata": {},
   "outputs": [
    {
     "data": {
      "image/png": "[encoded data removed]",
      "text/plain": [
       "<Figure size 432x288 with 1 Axes>"
      ]
     },
     "metadata": {
      "needs_background": "light"
     },
     "output_type": "display_data"
    }
   ],
   "source": [
    "plt.plot(losses)\n",
    "plt.show()"
   ]
  },
  {
   "cell_type": "code",
   "execution_count": null,
   "id": "761db843",
   "metadata": {},
   "outputs": [],
   "source": []
  },
  {
   "cell_type": "code",
   "execution_count": null,
   "id": "6db2c096",
   "metadata": {},
   "outputs": [],
   "source": []
  },
  {
   "cell_type": "code",
   "execution_count": null,
   "id": "6b34be91",
   "metadata": {},
   "outputs": [],
   "source": []
  }
 ],
 "metadata": {
  "interpreter": {
   "hash": "9a1cf7199e2c41d63b48ed1d5e80bd73b8082f141724ef71c5588fe270d6c9c9"
  },
  "kernelspec": {
   "display_name": "Python 3.8.5 64-bit ('3.8.5')",
   "language": "python",
   "name": "python3"
  },
  "language_info": {
   "codemirror_mode": {
    "name": "ipython",
    "version": 3
   },
   "file_extension": ".py",
   "mimetype": "text/x-python",
   "name": "python",
   "nbconvert_exporter": "python",
   "pygments_lexer": "ipython3",
   "version": "3.8.5"
  }
 },
 "nbformat": 4,
 "nbformat_minor": 5
}
